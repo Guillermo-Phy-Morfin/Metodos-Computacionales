{
 "cells": [
  {
   "cell_type": "markdown",
   "metadata": {},
   "source": [
    "Ejemplos de Computo simbólico con Julia"
   ]
  },
  {
   "cell_type": "code",
   "execution_count": 1,
   "metadata": {},
   "outputs": [
    {
     "data": {
      "text/latex": [
       "$\\begin{cases} \\frac{1}{1 - a} & \\text{for}\\: \\left|{a}\\right| < 1 \\\\\\sum_{n=0}^{\\infty} a^{n} & \\text{otherwise} \\end{cases}$"
      ],
      "text/plain": [
       "⎧   1                 \n",
       "⎪ ─────    for │a│ < 1\n",
       "⎪ 1 - a               \n",
       "⎪                     \n",
       "⎪  ∞                  \n",
       "⎪ ___                 \n",
       "⎨ ╲                   \n",
       "⎪  ╲    n             \n",
       "⎪  ╱   a    otherwise \n",
       "⎪ ╱                   \n",
       "⎪ ‾‾‾                 \n",
       "⎪n = 0                \n",
       "⎩                     "
      ]
     },
     "execution_count": 1,
     "metadata": {},
     "output_type": "execute_result"
    }
   ],
   "source": [
    "using SymPy\n",
    "\n",
    "A,x,a,n,m=symbols(\"A,x,a,n,m\")\n",
    "\n",
    "summation(a^n,(n,0,oo))"
   ]
  }
 ],
 "metadata": {
  "kernelspec": {
   "display_name": "Julia 1.11.3",
   "language": "julia",
   "name": "julia-1.11"
  },
  "language_info": {
   "file_extension": ".jl",
   "mimetype": "application/julia",
   "name": "julia",
   "version": "1.11.3"
  }
 },
 "nbformat": 4,
 "nbformat_minor": 2
}
