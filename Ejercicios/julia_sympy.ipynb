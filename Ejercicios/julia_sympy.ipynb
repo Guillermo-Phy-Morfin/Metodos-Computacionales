{
 "cells": [
  {
   "cell_type": "markdown",
   "metadata": {},
   "source": [
    "# Ejercicios"
   ]
  },
  {
   "cell_type": "markdown",
   "metadata": {},
   "source": [
    "## Ejercicio 1"
   ]
  },
  {
   "cell_type": "markdown",
   "metadata": {},
   "source": [
    "Resolver una ecuación matricial del tipo $Ax=b$ donde $A$ es una matriz y $x,b$ son vectores"
   ]
  },
  {
   "cell_type": "code",
   "execution_count": 1,
   "metadata": {},
   "outputs": [
    {
     "data": {
      "text/plain": [
       "(A, x, b)"
      ]
     },
     "execution_count": 1,
     "metadata": {},
     "output_type": "execute_result"
    }
   ],
   "source": [
    "using SymPy\n",
    "\n",
    "A,x,b=symbols(\"A,x,b\")\n"
   ]
  },
  {
   "cell_type": "code",
   "execution_count": 2,
   "metadata": {},
   "outputs": [
    {
     "data": {
      "text/latex": [
       "$\\left[\\begin{smallmatrix}\\frac{- b b_{2} + b_{1} d}{a d - b c}\\\\\\frac{a b_{2} - b_{1} c}{a d - b c}\\end{smallmatrix}\\right]$"
      ],
      "text/plain": [
       "2×1 Matrix{Sym{PyCall.PyObject}}:\n",
       " (-b*b_2 + b_1*d)/(a*d - b*c)\n",
       "  (a*b_2 - b_1*c)/(a*d - b*c)"
      ]
     },
     "execution_count": 2,
     "metadata": {},
     "output_type": "execute_result"
    }
   ],
   "source": [
    "@syms a b c d b_1 b_2\n",
    "\n",
    "A = Sym[a b; c d]\n",
    "b = Sym[b_1; b_2]\n",
    "\n",
    "\n",
    "x = A.solve(b)\n"
   ]
  },
  {
   "cell_type": "code",
   "execution_count": 3,
   "metadata": {},
   "outputs": [
    {
     "data": {
      "text/latex": [
       "$\\left[\\begin{smallmatrix}- \\frac{b b_{2}}{a d - b c} + \\frac{b_{1} d}{a d - b c}\\\\\\frac{a b_{2}}{a d - b c} - \\frac{b_{1} c}{a d - b c}\\end{smallmatrix}\\right]$"
      ],
      "text/plain": [
       "2-element Vector{Sym{PyCall.PyObject}}:\n",
       " -b*b_2/(a*d - b*c) + b_1*d/(a*d - b*c)\n",
       "  a*b_2/(a*d - b*c) - b_1*c/(a*d - b*c)"
      ]
     },
     "execution_count": 3,
     "metadata": {},
     "output_type": "execute_result"
    }
   ],
   "source": [
    "y= A^-1*b"
   ]
  },
  {
   "cell_type": "code",
   "execution_count": 4,
   "metadata": {},
   "outputs": [
    {
     "data": {
      "text/latex": [
       "$\\left[\\begin{smallmatrix}- \\frac{b b_{2}}{a d - b c} + \\frac{b_{1} d}{a d - b c}\\\\\\frac{a b_{2}}{a d - b c} - \\frac{b_{1} c}{a d - b c}\\end{smallmatrix}\\right]$"
      ],
      "text/plain": [
       "2-element Vector{Sym{PyCall.PyObject}}:\n",
       " -b*b_2/(a*d - b*c) + b_1*d/(a*d - b*c)\n",
       "  a*b_2/(a*d - b*c) - b_1*c/(a*d - b*c)"
      ]
     },
     "execution_count": 4,
     "metadata": {},
     "output_type": "execute_result"
    }
   ],
   "source": [
    "z=A.inv()*b"
   ]
  },
  {
   "cell_type": "code",
   "execution_count": 16,
   "metadata": {},
   "outputs": [
    {
     "data": {
      "text/latex": [
       "$\\left[\\begin{smallmatrix}{B}_{0,0} & {B}_{0,1} & {B}_{0,2} & {B}_{0,3}\\\\{B}_{1,0} & {B}_{1,1} & {B}_{1,2} & {B}_{1,3}\\\\{B}_{2,0} & {B}_{2,1} & {B}_{2,2} & {B}_{2,3}\\\\{B}_{3,0} & {B}_{3,1} & {B}_{3,2} & {B}_{3,3}\\end{smallmatrix}\\right]$"
      ],
      "text/plain": [
       "⎡B₀₀  B₀₁  B₀₂  B₀₃⎤\n",
       "⎢                  ⎥\n",
       "⎢B₁₀  B₁₁  B₁₂  B₁₃⎥\n",
       "⎢                  ⎥\n",
       "⎢B₂₀  B₂₁  B₂₂  B₂₃⎥\n",
       "⎢                  ⎥\n",
       "⎣B₃₀  B₃₁  B₃₂  B₃₃⎦"
      ]
     },
     "execution_count": 16,
     "metadata": {},
     "output_type": "execute_result"
    }
   ],
   "source": [
    "B = sympy.MatrixSymbol('B', 4, 4).as_explicit()"
   ]
  },
  {
   "cell_type": "code",
   "execution_count": 17,
   "metadata": {},
   "outputs": [
    {
     "data": {
      "text/latex": [
       "${B}_{0,0} {B}_{1,1} {B}_{2,2} {B}_{3,3} - {B}_{0,0} {B}_{1,1} {B}_{2,3} {B}_{3,2} - {B}_{0,0} {B}_{1,2} {B}_{2,1} {B}_{3,3} + {B}_{0,0} {B}_{1,2} {B}_{2,3} {B}_{3,1} + {B}_{0,0} {B}_{1,3} {B}_{2,1} {B}_{3,2} - {B}_{0,0} {B}_{1,3} {B}_{2,2} {B}_{3,1} - {B}_{0,1} {B}_{1,0} {B}_{2,2} {B}_{3,3} + {B}_{0,1} {B}_{1,0} {B}_{2,3} {B}_{3,2} + {B}_{0,1} {B}_{1,2} {B}_{2,0} {B}_{3,3} - {B}_{0,1} {B}_{1,2} {B}_{2,3} {B}_{3,0} - {B}_{0,1} {B}_{1,3} {B}_{2,0} {B}_{3,2} + {B}_{0,1} {B}_{1,3} {B}_{2,2} {B}_{3,0} + {B}_{0,2} {B}_{1,0} {B}_{2,1} {B}_{3,3} - {B}_{0,2} {B}_{1,0} {B}_{2,3} {B}_{3,1} - {B}_{0,2} {B}_{1,1} {B}_{2,0} {B}_{3,3} + {B}_{0,2} {B}_{1,1} {B}_{2,3} {B}_{3,0} + {B}_{0,2} {B}_{1,3} {B}_{2,0} {B}_{3,1} - {B}_{0,2} {B}_{1,3} {B}_{2,1} {B}_{3,0} - {B}_{0,3} {B}_{1,0} {B}_{2,1} {B}_{3,2} + {B}_{0,3} {B}_{1,0} {B}_{2,2} {B}_{3,1} + {B}_{0,3} {B}_{1,1} {B}_{2,0} {B}_{3,2} - {B}_{0,3} {B}_{1,1} {B}_{2,2} {B}_{3,0} - {B}_{0,3} {B}_{1,2} {B}_{2,0} {B}_{3,1} + {B}_{0,3} {B}_{1,2} {B}_{2,1} {B}_{3,0}$"
      ],
      "text/plain": [
       "B₀₀⋅B₁₁⋅B₂₂⋅B₃₃ - B₀₀⋅B₁₁⋅B₂₃⋅B₃₂ - B₀₀⋅B₁₂⋅B₂₁⋅B₃₃ + B₀₀⋅B₁₂⋅B₂₃⋅B₃₁ + B₀₀⋅B₁ ↪\n",
       "\n",
       "↪ ₃⋅B₂₁⋅B₃₂ - B₀₀⋅B₁₃⋅B₂₂⋅B₃₁ - B₀₁⋅B₁₀⋅B₂₂⋅B₃₃ + B₀₁⋅B₁₀⋅B₂₃⋅B₃₂ + B₀₁⋅B₁₂⋅B₂ ↪\n",
       "\n",
       "↪ ₀⋅B₃₃ - B₀₁⋅B₁₂⋅B₂₃⋅B₃₀ - B₀₁⋅B₁₃⋅B₂₀⋅B₃₂ + B₀₁⋅B₁₃⋅B₂₂⋅B₃₀ + B₀₂⋅B₁₀⋅B₂₁⋅B₃ ↪\n",
       "\n",
       "↪ ₃ - B₀₂⋅B₁₀⋅B₂₃⋅B₃₁ - B₀₂⋅B₁₁⋅B₂₀⋅B₃₃ + B₀₂⋅B₁₁⋅B₂₃⋅B₃₀ + B₀₂⋅B₁₃⋅B₂₀⋅B₃₁ -  ↪\n",
       "\n",
       "↪ B₀₂⋅B₁₃⋅B₂₁⋅B₃₀ - B₀₃⋅B₁₀⋅B₂₁⋅B₃₂ + B₀₃⋅B₁₀⋅B₂₂⋅B₃₁ + B₀₃⋅B₁₁⋅B₂₀⋅B₃₂ - B₀₃⋅ ↪\n",
       "\n",
       "↪ B₁₁⋅B₂₂⋅B₃₀ - B₀₃⋅B₁₂⋅B₂₀⋅B₃₁ + B₀₃⋅B₁₂⋅B₂₁⋅B₃₀"
      ]
     },
     "execution_count": 17,
     "metadata": {},
     "output_type": "execute_result"
    }
   ],
   "source": [
    "B.det()"
   ]
  },
  {
   "cell_type": "code",
   "execution_count": null,
   "metadata": {},
   "outputs": [],
   "source": [
    "B.exp() #ilegal porque no se sabe nada de la matriz"
   ]
  },
  {
   "cell_type": "code",
   "execution_count": 9,
   "metadata": {},
   "outputs": [
    {
     "data": {
      "text/latex": [
       "$\\left[\\begin{smallmatrix}\\pi & 0\\\\0 & -3.14159265358979\\end{smallmatrix}\\right]$"
      ],
      "text/plain": [
       "2×2 Matrix{Sym}:\n",
       " π                  0\n",
       "  0  -3.14159265358979"
      ]
     },
     "execution_count": 9,
     "metadata": {},
     "output_type": "execute_result"
    }
   ],
   "source": [
    "H=Sym[π 0; 0 -π]"
   ]
  },
  {
   "cell_type": "code",
   "execution_count": 10,
   "metadata": {},
   "outputs": [
    {
     "data": {
      "text/latex": [
       "$\\left[\\begin{smallmatrix}23.1406926327793 & 0\\\\0 & 0.0432139182637724\\end{smallmatrix}\\right]$"
      ],
      "text/plain": [
       "2×2 Matrix{Sym{PyCall.PyObject}}:\n",
       " 23.1406926327793                   0\n",
       "                0  0.0432139182637724"
      ]
     },
     "execution_count": 10,
     "metadata": {},
     "output_type": "execute_result"
    }
   ],
   "source": [
    "exp(H)"
   ]
  },
  {
   "cell_type": "code",
   "execution_count": 11,
   "metadata": {},
   "outputs": [
    {
     "data": {
      "text/latex": [
       "$\\left[\\begin{smallmatrix}23.1406926327793 & 0\\\\0 & 0.0432139182637724\\end{smallmatrix}\\right]$"
      ],
      "text/plain": [
       "2×2 Matrix{Sym{PyCall.PyObject}}:\n",
       " 23.1406926327793                   0\n",
       "                0  0.0432139182637724"
      ]
     },
     "execution_count": 11,
     "metadata": {},
     "output_type": "execute_result"
    }
   ],
   "source": [
    "H.exp()"
   ]
  },
  {
   "cell_type": "code",
   "execution_count": 14,
   "metadata": {},
   "outputs": [
    {
     "data": {
      "text/latex": [
       "$\\cos{\\left(\\left[\\begin{smallmatrix}1 & 1\\\\0 & 1\\end{smallmatrix}\\right] \\right)}$"
      ],
      "text/plain": [
       "   ⎛⎡1  1⎤⎞\n",
       "cos⎜⎢    ⎥⎟\n",
       "   ⎝⎣0  1⎦⎠"
      ]
     },
     "execution_count": 14,
     "metadata": {},
     "output_type": "execute_result"
    }
   ],
   "source": [
    "C=Sym[1 1; 0 1]\n",
    "C_cos=sympy.cos(C)"
   ]
  },
  {
   "cell_type": "markdown",
   "metadata": {},
   "source": [
    "# Ejercicio 2"
   ]
  },
  {
   "cell_type": "markdown",
   "metadata": {},
   "source": [
    "Calcular $\\pi$ utilizando montecarlo. Para ello investigar que funciones de Julia generan números aleatorios uniformes."
   ]
  },
  {
   "cell_type": "markdown",
   "metadata": {},
   "source": [
    "Sabemos que el área de un circulo de radio $r$ es $A_{circ}=\\pi r^2$, y si se circunscribe un cuadrado tenemos que su área será $A_{cuad}=4 r^2$ por lo tanto $\\pi=4\\frac{A_{circ}}{A_{cuad}}$ "
   ]
  },
  {
   "cell_type": "code",
   "execution_count": 15,
   "metadata": {},
   "outputs": [
    {
     "data": {
      "text/plain": [
       "pi_estimate (generic function with 1 method)"
      ]
     },
     "execution_count": 15,
     "metadata": {},
     "output_type": "execute_result"
    }
   ],
   "source": [
    "function pi_estimate(num_points)\n",
    "    inside_circle = 0\n",
    "    random_pairs = [(rand(), rand()) for _ in 1:num_points]\n",
    "    for i in 1:num_points\n",
    "        x = random_pairs[i][1]\n",
    "        y = random_pairs[i][2]\n",
    "        if y <= sqrt(1 - x^2)\n",
    "            inside_circle += 1\n",
    "        end \n",
    "    end\n",
    "    return 4 * inside_circle / num_points\n",
    "end\n"
   ]
  },
  {
   "cell_type": "code",
   "execution_count": 22,
   "metadata": {},
   "outputs": [
    {
     "data": {
      "text/plain": [
       "3.143"
      ]
     },
     "execution_count": 22,
     "metadata": {},
     "output_type": "execute_result"
    }
   ],
   "source": [
    "pi_estimate(10^6)"
   ]
  },
  {
   "cell_type": "code",
   "execution_count": 24,
   "metadata": {},
   "outputs": [
    {
     "data": {
      "text/plain": [
       "pi_estimate_altern (generic function with 1 method)"
      ]
     },
     "execution_count": 24,
     "metadata": {},
     "output_type": "execute_result"
    }
   ],
   "source": [
    "function pi_estimate_altern(num_points)\n",
    "    inside_circle = 0\n",
    "    random_pairs = rand(Float64, (num_points, 2))\n",
    "    for i in 1:num_points\n",
    "        x = random_pairs[i,1]\n",
    "        y = random_pairs[i,2]\n",
    "        if y <= sqrt(1 - x^2)\n",
    "            inside_circle += 1\n",
    "        end \n",
    "    end\n",
    "    return 4*inside_circle / num_points\n",
    "end"
   ]
  },
  {
   "cell_type": "code",
   "execution_count": 26,
   "metadata": {},
   "outputs": [
    {
     "data": {
      "text/plain": [
       "3.1414176"
      ]
     },
     "execution_count": 26,
     "metadata": {},
     "output_type": "execute_result"
    }
   ],
   "source": [
    "pi_estimate_altern(10^7)"
   ]
  },
  {
   "cell_type": "markdown",
   "metadata": {},
   "source": [
    "Notese que da igual si se toma la circunferencia completa $y^2+x^2 \\leq r$, o solo un cuarto de circunferencia $y\\leq \\sqrt{r-x^2}$ con $x>0$, ya que en el segundo caso tenemos las áreas $A'_{circ}=\\frac{\\pi r^2}{4}$ y $A'_{cuad}= r^2$ de modo que se obtiene la misma ecuación $\\pi=4\\frac{A'_{circ}}{A'_{cuad}}$. Dado que `rand()` genera numeros aleatorios entre 0 y 1, lo más correcto es tomar solo un cuarto de circunferencia  "
   ]
  }
 ],
 "metadata": {
  "kernelspec": {
   "display_name": "Julia 1.11.3",
   "language": "julia",
   "name": "julia-1.11"
  },
  "language_info": {
   "file_extension": ".jl",
   "mimetype": "application/julia",
   "name": "julia",
   "version": "1.11.3"
  }
 },
 "nbformat": 4,
 "nbformat_minor": 2
}
