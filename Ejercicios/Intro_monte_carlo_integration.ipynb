{
 "cells": [
  {
   "cell_type": "markdown",
   "metadata": {},
   "source": [
    "# Integración Monte-Carlo "
   ]
  },
  {
   "cell_type": "markdown",
   "metadata": {},
   "source": [
    "Sabemos que $\\left<f\\right>=\\frac{1}{b-a}\\int_a^b f(x) dx$ de modo que podemos realizar una aproximación de la integral con una media muestral $\\bar{f}(x)=\\frac{1}{N}\\sum_{i=1}^N f(x_i)$ tal que\n",
    "\n",
    "$\\int_a^b f(x) dx \\approx (b-a)\\bar{f}(x)$ "
   ]
  },
  {
   "cell_type": "code",
   "execution_count": 2,
   "metadata": {},
   "outputs": [
    {
     "name": "stdout",
     "output_type": "stream",
     "text": [
      "integral =3.1416315564213124\n"
     ]
    }
   ],
   "source": [
    "# Number of random points to use for the Monte Carlo simulation\n",
    "n = 10^6\n",
    " \n",
    "# Function to integrate\n",
    "f(x) = 4.0 / (1.0 + x^2)\n",
    " \n",
    "# Monte Carlo integration\n",
    "integral = 0.0\n",
    " \n",
    "for _ in 1:n\n",
    "    integral += f(rand())\n",
    "end\n",
    " \n",
    "integral /= n\n",
    " \n",
    "println(\"integral =\", integral)"
   ]
  },
  {
   "cell_type": "markdown",
   "metadata": {},
   "source": [
    "Para una distribución con densidad de probabilidad $\\rho(x)$ tenemos que extraer la muestra de los números aleatorios de la distribución correspondiente es decir \n",
    "\n",
    "$\\int_{-\\infty}^{\\infty} f(x) \\rho(x)dx \\approx \\frac{1}{N}\\sum_{i=1}^N f(x_i)$ tal que $\\{x_i\\}$ son números aleatorios generados de la distribución correspondiente a la densidad de probabilidad $\\rho(x)$.\n",
    "\n",
    "Revisar https://kamemori.com/julia/quick_introduction/lesson05.html"
   ]
  }
 ],
 "metadata": {
  "kernelspec": {
   "display_name": "Julia 1.11.3",
   "language": "julia",
   "name": "julia-1.11"
  },
  "language_info": {
   "file_extension": ".jl",
   "mimetype": "application/julia",
   "name": "julia",
   "version": "1.11.3"
  }
 },
 "nbformat": 4,
 "nbformat_minor": 2
}
