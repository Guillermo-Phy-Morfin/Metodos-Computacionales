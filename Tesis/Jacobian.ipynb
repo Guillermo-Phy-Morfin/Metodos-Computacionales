{
 "cells": [
  {
   "cell_type": "markdown",
   "metadata": {},
   "source": [
    "Determinación del Jacobiano en la parametrización $M=M(\\theta, t, \\phi)=K(\\theta)A(t)K(\\phi)$"
   ]
  },
  {
   "cell_type": "markdown",
   "metadata": {},
   "source": [
    "Elementos del  álgebra"
   ]
  },
  {
   "cell_type": "code",
   "execution_count": 2,
   "metadata": {},
   "outputs": [
    {
     "data": {
      "text/latex": [
       "$\\left[\\begin{smallmatrix}0.5 i & 0\\\\0 & - 0.5 i\\end{smallmatrix}\\right]$"
      ],
      "text/plain": [
       "2×2 Matrix{Sym}:\n",
       " 0.5⋅ⅈ       0\n",
       "     0  -0.5⋅ⅈ"
      ]
     },
     "execution_count": 2,
     "metadata": {},
     "output_type": "execute_result"
    }
   ],
   "source": [
    "T_0 = Sym[im/2 0; 0 -im/2]"
   ]
  },
  {
   "cell_type": "code",
   "execution_count": 3,
   "metadata": {},
   "outputs": [
    {
     "data": {
      "text/latex": [
       "$\\left[\\begin{smallmatrix}0 & 0.5\\\\0.5 & 0\\end{smallmatrix}\\right]$"
      ],
      "text/plain": [
       "2×2 Matrix{Sym}:\n",
       "                 0  0.500000000000000\n",
       " 0.500000000000000                  0"
      ]
     },
     "execution_count": 3,
     "metadata": {},
     "output_type": "execute_result"
    }
   ],
   "source": [
    "T_1 = Sym[0 1/2; 1/2 0]"
   ]
  },
  {
   "cell_type": "code",
   "execution_count": 4,
   "metadata": {},
   "outputs": [
    {
     "data": {
      "text/latex": [
       "$\\left[\\begin{smallmatrix}0 & 0.5 i\\\\- 0.5 i & 0\\end{smallmatrix}\\right]$"
      ],
      "text/plain": [
       "2×2 Matrix{Sym}:\n",
       "      0  0.5⋅ⅈ\n",
       " -0.5⋅ⅈ      0"
      ]
     },
     "execution_count": 4,
     "metadata": {},
     "output_type": "execute_result"
    }
   ],
   "source": [
    "T_2 = Sym[0 im/2; -im/2 0]"
   ]
  },
  {
   "cell_type": "markdown",
   "metadata": {},
   "source": [
    "$g^{-1}\\frac{\\partial g}{\\partial q_k}$"
   ]
  },
  {
   "cell_type": "markdown",
   "metadata": {},
   "source": [
    "$A=g^{-1}\\frac{\\partial g}{\\partial \\theta}$ donde $\\frac{\\partial g}{\\partial \\theta}=T_0 g$"
   ]
  },
  {
   "cell_type": "code",
   "execution_count": null,
   "metadata": {},
   "outputs": [
    {
     "data": {
      "text/latex": [
       "$\\left[\\begin{smallmatrix}\\frac{i \\cosh{\\left(t \\right)}}{2} & \\frac{i e^{- i ϕ} \\sinh{\\left(t \\right)}}{2}\\\\- \\frac{i e^{i ϕ} \\sinh{\\left(t \\right)}}{2} & - \\frac{i \\cosh{\\left(t \\right)}}{2}\\end{smallmatrix}\\right]$"
      ],
      "text/plain": [
       "2×2 Matrix{Sym}:\n",
       "           I*cosh(t)/2  I*exp(-I*ϕ)*sinh(t)/2\n",
       " -I*exp(I*ϕ)*sinh(t)/2           -I*cosh(t)/2"
      ]
     },
     "execution_count": 5,
     "metadata": {},
     "output_type": "execute_result"
    }
   ],
   "source": [
    "using SymPy\n",
    "\n",
    "# Define the symbolic variables\n",
    "@syms θ t ϕ\n",
    "\n",
    "# Define the symbolic functions\n",
    "A = Sym[im*cosh(t)/2 im*exp(-im*ϕ)*sinh(t)/2; -im*exp(im*ϕ)*sinh(t)/2 -im*cosh(t)/2]"
   ]
  },
  {
   "cell_type": "markdown",
   "metadata": {},
   "source": [
    "$B=g^{-1}\\frac{\\partial g}{\\partial \\phi}$ donde $\\frac{\\partial g}{\\partial \\phi}=gT_0$"
   ]
  },
  {
   "cell_type": "code",
   "execution_count": 6,
   "metadata": {},
   "outputs": [
    {
     "data": {
      "text/latex": [
       "$\\left[\\begin{smallmatrix}0.5 i & 0\\\\0 & - 0.5 i\\end{smallmatrix}\\right]$"
      ],
      "text/plain": [
       "2×2 Matrix{Sym}:\n",
       " 0.5⋅ⅈ       0\n",
       "     0  -0.5⋅ⅈ"
      ]
     },
     "execution_count": 6,
     "metadata": {},
     "output_type": "execute_result"
    }
   ],
   "source": [
    "B = T_0"
   ]
  },
  {
   "cell_type": "markdown",
   "metadata": {},
   "source": [
    "$C=g^{-1}\\frac{\\partial g}{\\partial t}$ donde $\\frac{\\partial g}{\\partial t}=K(\\theta)A(t)T_1K(\\phi)$ entonces\n",
    "\n",
    "$C=(K(\\theta)A(t)K(\\phi))^{-1}K(\\theta)A(t)T_1K(\\phi)=K^{-1}(\\phi)T_1K(\\phi)$"
   ]
  },
  {
   "cell_type": "code",
   "execution_count": 7,
   "metadata": {},
   "outputs": [
    {
     "data": {
      "text/latex": [
       "$\\left[\\begin{smallmatrix}0 & \\frac{e^{- i ϕ}}{2}\\\\\\frac{e^{i ϕ}}{2} & 0\\end{smallmatrix}\\right]$"
      ],
      "text/plain": [
       "2×2 Matrix{Sym}:\n",
       "          0  exp(-I*ϕ)/2\n",
       " exp(I*ϕ)/2            0"
      ]
     },
     "execution_count": 7,
     "metadata": {},
     "output_type": "execute_result"
    }
   ],
   "source": [
    "C = Sym[0 exp(-im*ϕ)/2; exp(im*ϕ)/2 0]"
   ]
  },
  {
   "cell_type": "markdown",
   "metadata": {},
   "source": [
    "Definir el producto interno como $(A,B) = 2 \\; Tr(A B^{\\dagger})$"
   ]
  },
  {
   "cell_type": "code",
   "execution_count": 25,
   "metadata": {},
   "outputs": [
    {
     "data": {
      "text/plain": [
       "inner_product (generic function with 1 method)"
      ]
     },
     "execution_count": 25,
     "metadata": {},
     "output_type": "execute_result"
    }
   ],
   "source": [
    "using LinearAlgebra\n",
    "#Definir producto interno\n",
    "function inner_product(a,b)\n",
    "    return 2*tr(a*b')\n",
    "end"
   ]
  },
  {
   "cell_type": "code",
   "execution_count": 44,
   "metadata": {},
   "outputs": [
    {
     "data": {
      "text/plain": [
       "jacobian (generic function with 2 methods)"
      ]
     },
     "execution_count": 44,
     "metadata": {},
     "output_type": "execute_result"
    }
   ],
   "source": [
    "basis = Dict(1 => T_0, 2 => T_1, 3 => T_2)\n",
    "derivatives = Dict(1 => A, 2 => C, 3 => B)\n",
    "\n",
    "#Definir matriz jacobiana\n",
    "function jacobian(n)\n",
    "    J = zeros(Sym, n, n)\n",
    "    for i in 1:3\n",
    "        for j in 1:3\n",
    "            J[i,j] = inner_product(derivatives[i],basis[j])\n",
    "        end\n",
    "    end\n",
    "    return J\n",
    "end"
   ]
  },
  {
   "cell_type": "code",
   "execution_count": 47,
   "metadata": {},
   "outputs": [
    {
     "data": {
      "text/latex": [
       "$\\left[\\begin{smallmatrix}1.0 \\cosh{\\left(t \\right)} & - 0.5 i e^{i ϕ} \\sinh{\\left(t \\right)} + 0.5 i e^{- i ϕ} \\sinh{\\left(t \\right)} & 0.5 e^{i ϕ} \\sinh{\\left(t \\right)} + 0.5 e^{- i ϕ} \\sinh{\\left(t \\right)}\\\\0 & 0.5 e^{i ϕ} + 0.5 e^{- i ϕ} & 0.5 i e^{i ϕ} - 0.5 i e^{- i ϕ}\\\\1.0 & 0 & 0\\end{smallmatrix}\\right]$"
      ],
      "text/plain": [
       "3×3 Matrix{Sym}:\n",
       "      1.0⋅cosh(t)  …  0.5*exp(I*ϕ)*sinh(t) + 0.5*exp(-I*ϕ)*sinh(t)\n",
       "                0                 0.5*I*exp(I*ϕ) - 0.5*I*exp(-I*ϕ)\n",
       " 1.00000000000000                                                0"
      ]
     },
     "execution_count": 47,
     "metadata": {},
     "output_type": "execute_result"
    }
   ],
   "source": [
    "J = jacobian(3)"
   ]
  },
  {
   "cell_type": "code",
   "execution_count": 48,
   "metadata": {},
   "outputs": [
    {
     "data": {
      "text/latex": [
       "$- 1.0 \\sinh{\\left(t \\right)}$"
      ],
      "text/plain": [
       "-1.0⋅sinh(t)"
      ]
     },
     "execution_count": 48,
     "metadata": {},
     "output_type": "execute_result"
    }
   ],
   "source": [
    "d = det(jacobian(3))"
   ]
  },
  {
   "cell_type": "code",
   "execution_count": 76,
   "metadata": {},
   "outputs": [
    {
     "data": {
      "text/latex": [
       "$\\left[\\begin{smallmatrix}d/dθ\\\\d/dt\\\\d/dϕ\\end{smallmatrix}\\right]$"
      ],
      "text/plain": [
       "3-element Vector{Sym{PyCall.PyObject}}:\n",
       " d/dθ\n",
       " d/dt\n",
       " d/dϕ"
      ]
     },
     "execution_count": 76,
     "metadata": {},
     "output_type": "execute_result"
    }
   ],
   "source": [
    "# Create the symbolic gradient vector\n",
    "nabla = [Sym(\"d/dθ\"), Sym(\"d/dt\"), Sym(\"d/dϕ\")]\n",
    "\n"
   ]
  },
  {
   "cell_type": "code",
   "execution_count": 71,
   "metadata": {},
   "outputs": [
    {
     "data": {
      "text/latex": [
       "$\\left[\\begin{smallmatrix}1.0 \\cosh{\\left(t \\right)} & 1.0 \\sin{\\left(ϕ \\right)} \\sinh{\\left(t \\right)} & 1.0 \\cos{\\left(ϕ \\right)} \\sinh{\\left(t \\right)}\\\\0 & 1.0 \\cos{\\left(ϕ \\right)} & - 1.0 \\sin{\\left(ϕ \\right)}\\\\1.0 & 0 & 0\\end{smallmatrix}\\right]$"
      ],
      "text/plain": [
       "3×3 Matrix{Sym}:\n",
       "      1.0⋅cosh(t)  1.0⋅sin(ϕ)⋅sinh(t)  1.0⋅cos(ϕ)⋅sinh(t)\n",
       "                0          1.0⋅cos(ϕ)         -1.0⋅sin(ϕ)\n",
       " 1.00000000000000                   0                   0"
      ]
     },
     "execution_count": 71,
     "metadata": {},
     "output_type": "execute_result"
    }
   ],
   "source": [
    "function simplify_jacobian(J)\n",
    "    for i in 1:3\n",
    "        for j in 1:3\n",
    "            J[i,j] = simplify(J[i,j])\n",
    "        end\n",
    "    end\n",
    "    return J\n",
    "    \n",
    "end\n",
    "\n",
    "J_s=simplify_jacobian(J)"
   ]
  },
  {
   "cell_type": "code",
   "execution_count": 73,
   "metadata": {},
   "outputs": [
    {
     "data": {
      "text/latex": [
       "$\\left[\\begin{smallmatrix}0 & 0 & 1.0\\\\\\frac{1.0 \\sin{\\left(ϕ \\right)}}{\\sinh{\\left(t \\right)}} & 1.0 \\cos{\\left(ϕ \\right)} & - \\frac{1.0 \\sin{\\left(ϕ \\right)}}{\\tanh{\\left(t \\right)}}\\\\\\frac{1.0 \\cos{\\left(ϕ \\right)}}{\\sinh{\\left(t \\right)}} & - 1.0 \\sin{\\left(ϕ \\right)} & - \\frac{1.0 \\cos{\\left(ϕ \\right)}}{\\tanh{\\left(t \\right)}}\\end{smallmatrix}\\right]$"
      ],
      "text/plain": [
       "3×3 Matrix{Sym{PyCall.PyObject}}:\n",
       "                  0            0     1.00000000000000\n",
       " 1.0*sin(ϕ)/sinh(t)   1.0⋅cos(ϕ)  -1.0*sin(ϕ)/tanh(t)\n",
       " 1.0*cos(ϕ)/sinh(t)  -1.0⋅sin(ϕ)  -1.0*cos(ϕ)/tanh(t)"
      ]
     },
     "execution_count": 73,
     "metadata": {},
     "output_type": "execute_result"
    }
   ],
   "source": [
    "J_s_inverse=simplify_jacobian(J^(-1))"
   ]
  },
  {
   "cell_type": "code",
   "execution_count": 74,
   "metadata": {},
   "outputs": [
    {
     "data": {
      "text/latex": [
       "$\\left[\\begin{smallmatrix}1.0 d/dϕ\\\\1.0 d/dt \\cos{\\left(ϕ \\right)} + \\frac{1.0 d/dθ \\sin{\\left(ϕ \\right)}}{\\sinh{\\left(t \\right)}} - \\frac{1.0 d/dϕ \\sin{\\left(ϕ \\right)}}{\\tanh{\\left(t \\right)}}\\\\- 1.0 d/dt \\sin{\\left(ϕ \\right)} + \\frac{1.0 d/dθ \\cos{\\left(ϕ \\right)}}{\\sinh{\\left(t \\right)}} - \\frac{1.0 d/dϕ \\cos{\\left(ϕ \\right)}}{\\tanh{\\left(t \\right)}}\\end{smallmatrix}\\right]$"
      ],
      "text/plain": [
       "3-element Vector{Sym{PyCall.PyObject}}:\n",
       "                                                             1.0⋅d/dϕ\n",
       "  1.0*d/dt*cos(ϕ) + 1.0*d/dθ*sin(ϕ)/sinh(t) - 1.0*d/dϕ*sin(ϕ)/tanh(t)\n",
       " -1.0*d/dt*sin(ϕ) + 1.0*d/dθ*cos(ϕ)/sinh(t) - 1.0*d/dϕ*cos(ϕ)/tanh(t)"
      ]
     },
     "execution_count": 74,
     "metadata": {},
     "output_type": "execute_result"
    }
   ],
   "source": [
    "representation = J_s_inverse*nabla"
   ]
  }
 ],
 "metadata": {
  "kernelspec": {
   "display_name": "Julia 1.11.3",
   "language": "julia",
   "name": "julia-1.11"
  },
  "language_info": {
   "file_extension": ".jl",
   "mimetype": "application/julia",
   "name": "julia",
   "version": "1.11.3"
  }
 },
 "nbformat": 4,
 "nbformat_minor": 2
}
