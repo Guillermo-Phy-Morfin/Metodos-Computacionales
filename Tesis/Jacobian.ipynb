{
 "cells": [
  {
   "cell_type": "markdown",
   "metadata": {},
   "source": [
    "# Realización del álgebra de lie $su(1,1)$ en el espacio de Hilbert $L^2(SU(1,1), dg)$"
   ]
  },
  {
   "cell_type": "markdown",
   "metadata": {},
   "source": [
    "## Determinación del Jacobiano en la parametrización $(\\theta, t, \\phi)$"
   ]
  },
  {
   "cell_type": "code",
   "execution_count": 2,
   "metadata": {},
   "outputs": [
    {
     "data": {
      "text/plain": [
       "(θ, t, ϕ)"
      ]
     },
     "execution_count": 2,
     "metadata": {},
     "output_type": "execute_result"
    }
   ],
   "source": [
    "using SymPy\n",
    "\n",
    "# Define the symbolic variables\n",
    "#@syms θ t ϕ::real\n",
    "θ,t,ϕ = symbols(\"θ, t, ϕ\", real=true)"
   ]
  },
  {
   "cell_type": "code",
   "execution_count": 27,
   "metadata": {},
   "outputs": [
    {
     "data": {
      "text/plain": [
       "comutator (generic function with 1 method)"
      ]
     },
     "execution_count": 27,
     "metadata": {},
     "output_type": "execute_result"
    }
   ],
   "source": [
    "function comutator(A,B)\n",
    "    return A*B-B*A\n",
    "end"
   ]
  },
  {
   "cell_type": "code",
   "execution_count": 28,
   "metadata": {},
   "outputs": [
    {
     "data": {
      "text/latex": [
       "$\\left[\\begin{smallmatrix}-0.5 & 0\\\\0 & 0.5\\end{smallmatrix}\\right]$"
      ],
      "text/plain": [
       "2×2 Matrix{Sym{PyCall.PyObject}}:\n",
       " -0.500000000000000                  0\n",
       "                  0  0.500000000000000"
      ]
     },
     "execution_count": 28,
     "metadata": {},
     "output_type": "execute_result"
    }
   ],
   "source": [
    "H=-Sym[1/2 0; 0 -1/2]"
   ]
  },
  {
   "cell_type": "code",
   "execution_count": 29,
   "metadata": {},
   "outputs": [
    {
     "data": {
      "text/latex": [
       "$\\left[\\begin{smallmatrix}0 & -1\\\\0 & 0\\end{smallmatrix}\\right]$"
      ],
      "text/plain": [
       "2×2 Matrix{Sym{PyCall.PyObject}}:\n",
       " 0  -1\n",
       " 0   0"
      ]
     },
     "execution_count": 29,
     "metadata": {},
     "output_type": "execute_result"
    }
   ],
   "source": [
    "p = -Sym[0 1; 0 0]"
   ]
  },
  {
   "cell_type": "code",
   "execution_count": 30,
   "metadata": {},
   "outputs": [
    {
     "data": {
      "text/latex": [
       "$\\left[\\begin{smallmatrix}0 & 0\\\\1 & 0\\end{smallmatrix}\\right]$"
      ],
      "text/plain": [
       "2×2 Matrix{Sym}:\n",
       " 0  0\n",
       " 1  0"
      ]
     },
     "execution_count": 30,
     "metadata": {},
     "output_type": "execute_result"
    }
   ],
   "source": [
    "m = Sym[0 0; 1 0]"
   ]
  },
  {
   "cell_type": "markdown",
   "metadata": {},
   "source": [
    "### Elementos del  álgebra $T_0, \\; T_1,\\; T_2$"
   ]
  },
  {
   "cell_type": "code",
   "execution_count": 3,
   "metadata": {},
   "outputs": [
    {
     "data": {
      "text/latex": [
       "$\\left[\\begin{smallmatrix}0.5 i & 0\\\\0 & - 0.5 i\\end{smallmatrix}\\right]$"
      ],
      "text/plain": [
       "2×2 Matrix{Sym}:\n",
       " 0.5⋅ⅈ       0\n",
       "     0  -0.5⋅ⅈ"
      ]
     },
     "execution_count": 3,
     "metadata": {},
     "output_type": "execute_result"
    }
   ],
   "source": [
    "T_0 = Sym[im/2 0; 0 -im/2]"
   ]
  },
  {
   "cell_type": "code",
   "execution_count": 4,
   "metadata": {},
   "outputs": [
    {
     "data": {
      "text/latex": [
       "$\\left[\\begin{smallmatrix}0 & 0.5\\\\0.5 & 0\\end{smallmatrix}\\right]$"
      ],
      "text/plain": [
       "2×2 Matrix{Sym}:\n",
       "                 0  0.500000000000000\n",
       " 0.500000000000000                  0"
      ]
     },
     "execution_count": 4,
     "metadata": {},
     "output_type": "execute_result"
    }
   ],
   "source": [
    "T_1 = Sym[0 1/2; 1/2 0]"
   ]
  },
  {
   "cell_type": "code",
   "execution_count": 5,
   "metadata": {},
   "outputs": [
    {
     "data": {
      "text/latex": [
       "$\\left[\\begin{smallmatrix}0 & 0.5 i\\\\- 0.5 i & 0\\end{smallmatrix}\\right]$"
      ],
      "text/plain": [
       "2×2 Matrix{Sym}:\n",
       "      0  0.5⋅ⅈ\n",
       " -0.5⋅ⅈ      0"
      ]
     },
     "execution_count": 5,
     "metadata": {},
     "output_type": "execute_result"
    }
   ],
   "source": [
    "T_2 = Sym[0 im/2; -im/2 0]"
   ]
  },
  {
   "cell_type": "code",
   "execution_count": 20,
   "metadata": {},
   "outputs": [
    {
     "data": {
      "text/latex": [
       "$\\left[\\begin{smallmatrix}-0.75 & 0\\\\0 & -0.75\\end{smallmatrix}\\right]$"
      ],
      "text/plain": [
       "2×2 Matrix{Sym{PyCall.PyObject}}:\n",
       " -0.750000000000000                   0\n",
       "                  0  -0.750000000000000"
      ]
     },
     "execution_count": 20,
     "metadata": {},
     "output_type": "execute_result"
    }
   ],
   "source": [
    "casimir = T_0^2 - T_1^2 - T_2^2"
   ]
  },
  {
   "cell_type": "markdown",
   "metadata": {},
   "source": [
    "### Elementos del álgebra en la forma $j_k=iT_k$"
   ]
  },
  {
   "cell_type": "code",
   "execution_count": 12,
   "metadata": {},
   "outputs": [
    {
     "data": {
      "text/latex": [
       "$\\left[\\begin{smallmatrix}-0.5 & 0\\\\0 & 0.5\\end{smallmatrix}\\right]$"
      ],
      "text/plain": [
       "2×2 Matrix{Sym{PyCall.PyObject}}:\n",
       " -0.500000000000000                  0\n",
       "                  0  0.500000000000000"
      ]
     },
     "execution_count": 12,
     "metadata": {},
     "output_type": "execute_result"
    }
   ],
   "source": [
    "J_0 = im*T_0"
   ]
  },
  {
   "cell_type": "code",
   "execution_count": 11,
   "metadata": {},
   "outputs": [
    {
     "data": {
      "text/latex": [
       "$\\left[\\begin{smallmatrix}0 & 0.5\\\\-0.5 & 0\\end{smallmatrix}\\right]$"
      ],
      "text/plain": [
       "2×2 Matrix{Sym{PyCall.PyObject}}:\n",
       "                  0  0.500000000000000\n",
       " -0.500000000000000                  0"
      ]
     },
     "execution_count": 11,
     "metadata": {},
     "output_type": "execute_result"
    }
   ],
   "source": [
    "J_1  = -im*T_2"
   ]
  },
  {
   "cell_type": "code",
   "execution_count": 10,
   "metadata": {},
   "outputs": [
    {
     "data": {
      "text/latex": [
       "$\\left[\\begin{smallmatrix}0 & 0.5 i\\\\0.5 i & 0\\end{smallmatrix}\\right]$"
      ],
      "text/plain": [
       "2×2 Matrix{Sym{PyCall.PyObject}}:\n",
       "     0  0.5⋅ⅈ\n",
       " 0.5⋅ⅈ      0"
      ]
     },
     "execution_count": 10,
     "metadata": {},
     "output_type": "execute_result"
    }
   ],
   "source": [
    "J_2 = im*T_1"
   ]
  },
  {
   "cell_type": "code",
   "execution_count": 27,
   "metadata": {},
   "outputs": [
    {
     "data": {
      "text/latex": [
       "$\\left[\\begin{smallmatrix}0.75 & 0\\\\0 & 0.75\\end{smallmatrix}\\right]$"
      ],
      "text/plain": [
       "2×2 Matrix{Sym{PyCall.PyObject}}:\n",
       " 0.750000000000000                  0\n",
       "                 0  0.750000000000000"
      ]
     },
     "execution_count": 27,
     "metadata": {},
     "output_type": "execute_result"
    }
   ],
   "source": [
    "casmir_phy = +J_0^2 +J_0 -(J_1-im*J_2)*(J_1+im*J_2)"
   ]
  },
  {
   "cell_type": "code",
   "execution_count": 22,
   "metadata": {},
   "outputs": [
    {
     "data": {
      "text/latex": [
       "$\\left[\\begin{smallmatrix}0.75 & 0\\\\0 & 0.75\\end{smallmatrix}\\right]$"
      ],
      "text/plain": [
       "2×2 Matrix{Sym{PyCall.PyObject}}:\n",
       " 0.750000000000000                  0\n",
       "                 0  0.750000000000000"
      ]
     },
     "execution_count": 22,
     "metadata": {},
     "output_type": "execute_result"
    }
   ],
   "source": [
    "cas = J_0^2-J_1^2-J_2^2 "
   ]
  },
  {
   "cell_type": "code",
   "execution_count": 25,
   "metadata": {},
   "outputs": [
    {
     "data": {
      "text/latex": [
       "$\\left[\\begin{smallmatrix}0.75 & 0\\\\0 & 0.75\\end{smallmatrix}\\right]$"
      ],
      "text/plain": [
       "2×2 Matrix{Sym{PyCall.PyObject}}:\n",
       " 0.750000000000000                  0\n",
       "                 0  0.750000000000000"
      ]
     },
     "execution_count": 25,
     "metadata": {},
     "output_type": "execute_result"
    }
   ],
   "source": [
    "ca=J_0^2-(1/2)*((J_1+im*J_2)*(J_1-im*J_2)+(J_1-im*J_2)*(J_1+im*J_2))"
   ]
  },
  {
   "cell_type": "markdown",
   "metadata": {},
   "source": [
    "### $M=M(\\theta, t, \\phi)=K(\\theta)A(t)K(\\phi)$"
   ]
  },
  {
   "cell_type": "code",
   "execution_count": 87,
   "metadata": {},
   "outputs": [
    {
     "data": {
      "text/latex": [
       "$\\left[\\begin{smallmatrix}1.0 \\cosh{\\left(0.5 t \\right)} & - 1.0 i \\sinh{\\left(0.5 t \\right)}\\\\1.0 i \\sinh{\\left(0.5 t \\right)} & 1.0 \\cosh{\\left(0.5 t \\right)}\\end{smallmatrix}\\right]$"
      ],
      "text/plain": [
       "2×2 Matrix{Sym{PyCall.PyObject}}:\n",
       "   1.0⋅cosh(0.5⋅t)  -1.0⋅ⅈ⋅sinh(0.5⋅t)\n",
       " 1.0⋅ⅈ⋅sinh(0.5⋅t)     1.0⋅cosh(0.5⋅t)"
      ]
     },
     "execution_count": 87,
     "metadata": {},
     "output_type": "execute_result"
    }
   ],
   "source": [
    "#Definir parametrización del grupo \n",
    "A = simplify.(exp(-im*t*J_1))"
   ]
  },
  {
   "cell_type": "code",
   "execution_count": 88,
   "metadata": {},
   "outputs": [
    {
     "data": {
      "text/latex": [
       "$\\left[\\begin{smallmatrix}1.0 \\cosh{\\left(0.5 t \\right)} & 1.0 \\sinh{\\left(0.5 t \\right)}\\\\1.0 \\sinh{\\left(0.5 t \\right)} & 1.0 \\cosh{\\left(0.5 t \\right)}\\end{smallmatrix}\\right]$"
      ],
      "text/plain": [
       "2×2 Matrix{Sym{PyCall.PyObject}}:\n",
       " 1.0⋅cosh(0.5⋅t)  1.0⋅sinh(0.5⋅t)\n",
       " 1.0⋅sinh(0.5⋅t)  1.0⋅cosh(0.5⋅t)"
      ]
     },
     "execution_count": 88,
     "metadata": {},
     "output_type": "execute_result"
    }
   ],
   "source": [
    "B = simplify.(exp(-im*t*J_2))"
   ]
  },
  {
   "cell_type": "code",
   "execution_count": 89,
   "metadata": {},
   "outputs": [
    {
     "data": {
      "text/latex": [
       "$\\left[\\begin{smallmatrix}1.0 e^{0.5 i θ} & 0\\\\0 & 1.0 e^{- 0.5 i θ}\\end{smallmatrix}\\right]$"
      ],
      "text/plain": [
       "2×2 Matrix{Sym{PyCall.PyObject}}:\n",
       " 1.0*exp(0.5*I*θ)                  0\n",
       "                0  1.0*exp(-0.5*I*θ)"
      ]
     },
     "execution_count": 89,
     "metadata": {},
     "output_type": "execute_result"
    }
   ],
   "source": [
    "K_1 =exp(-im*θ*J_0)"
   ]
  },
  {
   "cell_type": "code",
   "execution_count": 90,
   "metadata": {},
   "outputs": [
    {
     "data": {
      "text/latex": [
       "$\\left[\\begin{smallmatrix}1.0 e^{0.5 i ϕ} & 0\\\\0 & 1.0 e^{- 0.5 i ϕ}\\end{smallmatrix}\\right]$"
      ],
      "text/plain": [
       "2×2 Matrix{Sym{PyCall.PyObject}}:\n",
       " 1.0*exp(0.5*I*ϕ)                  0\n",
       "                0  1.0*exp(-0.5*I*ϕ)"
      ]
     },
     "execution_count": 90,
     "metadata": {},
     "output_type": "execute_result"
    }
   ],
   "source": [
    "K_2 =exp(-im*ϕ*J_0)"
   ]
  },
  {
   "cell_type": "code",
   "execution_count": 91,
   "metadata": {},
   "outputs": [
    {
     "data": {
      "text/latex": [
       "$\\left[\\begin{smallmatrix}1.0 e^{0.5 i θ} e^{0.5 i ϕ} \\cosh{\\left(0.5 t \\right)} & 1.0 e^{0.5 i θ} e^{- 0.5 i ϕ} \\sinh{\\left(0.5 t \\right)}\\\\1.0 e^{- 0.5 i θ} e^{0.5 i ϕ} \\sinh{\\left(0.5 t \\right)} & 1.0 e^{- 0.5 i θ} e^{- 0.5 i ϕ} \\cosh{\\left(0.5 t \\right)}\\end{smallmatrix}\\right]$"
      ],
      "text/plain": [
       "2×2 Matrix{Sym{PyCall.PyObject}}:\n",
       "  1.0*exp(0.5*I*θ)*exp(0.5*I*ϕ)*cosh(0.5*t)  …   1.0*exp(0.5*I*θ)*exp(-0.5*I*ϕ)*sinh(0.5*t)\n",
       " 1.0*exp(-0.5*I*θ)*exp(0.5*I*ϕ)*sinh(0.5*t)     1.0*exp(-0.5*I*θ)*exp(-0.5*I*ϕ)*cosh(0.5*t)"
      ]
     },
     "execution_count": 91,
     "metadata": {},
     "output_type": "execute_result"
    }
   ],
   "source": [
    "M=simplify(K_1*B*K_2)"
   ]
  },
  {
   "cell_type": "markdown",
   "metadata": {},
   "source": [
    "### $g^{-1}\\frac{\\partial g}{\\partial q_k}$"
   ]
  },
  {
   "cell_type": "code",
   "execution_count": 68,
   "metadata": {},
   "outputs": [
    {
     "data": {
      "text/plain": [
       "J_component_left (generic function with 1 method)"
      ]
     },
     "execution_count": 68,
     "metadata": {},
     "output_type": "execute_result"
    }
   ],
   "source": [
    "# Calculo de las matrices $g^{-1} \\frac{\\partial g}{\\partial q_k}$ \n",
    "function J_component_left(M,k)\n",
    "    M_inverse = simplify.(M^(-1))\n",
    "    derivative = simplify.(diff.(M,k))\n",
    "    return simplify.(M_inverse*derivative)\n",
    "end"
   ]
  },
  {
   "cell_type": "code",
   "execution_count": 92,
   "metadata": {},
   "outputs": [
    {
     "data": {
      "text/latex": [
       "$\\left[\\begin{smallmatrix}0.5 i \\cosh{\\left(1.0 t \\right)} & 0.5 i e^{- 1.0 i ϕ} \\sinh{\\left(1.0 t \\right)}\\\\- 0.5 i e^{1.0 i ϕ} \\sinh{\\left(1.0 t \\right)} & - 0.5 i \\cosh{\\left(1.0 t \\right)}\\end{smallmatrix}\\right]$"
      ],
      "text/plain": [
       "2×2 Matrix{Sym{PyCall.PyObject}}:\n",
       "               0.5⋅ⅈ⋅cosh(1.0⋅t)  0.5*I*exp(-1.0*I*ϕ)*sinh(1.0*t)\n",
       " -0.5*I*exp(1.0*I*ϕ)*sinh(1.0*t)               -0.5⋅ⅈ⋅cosh(1.0⋅t)"
      ]
     },
     "execution_count": 92,
     "metadata": {},
     "output_type": "execute_result"
    }
   ],
   "source": [
    "J_θ_left = J_component_left(M,θ)"
   ]
  },
  {
   "cell_type": "code",
   "execution_count": 93,
   "metadata": {},
   "outputs": [
    {
     "data": {
      "text/latex": [
       "$\\left[\\begin{smallmatrix}0 & 0.5 e^{- 1.0 i ϕ}\\\\0.5 e^{1.0 i ϕ} & 0\\end{smallmatrix}\\right]$"
      ],
      "text/plain": [
       "2×2 Matrix{Sym{PyCall.PyObject}}:\n",
       "                0  0.5*exp(-1.0*I*ϕ)\n",
       " 0.5*exp(1.0*I*ϕ)                  0"
      ]
     },
     "execution_count": 93,
     "metadata": {},
     "output_type": "execute_result"
    }
   ],
   "source": [
    "J_t_left = J_component_left(M,t)"
   ]
  },
  {
   "cell_type": "code",
   "execution_count": 94,
   "metadata": {},
   "outputs": [
    {
     "data": {
      "text/latex": [
       "$\\left[\\begin{smallmatrix}0.5 i & 0\\\\0 & - 0.5 i\\end{smallmatrix}\\right]$"
      ],
      "text/plain": [
       "2×2 Matrix{Sym{PyCall.PyObject}}:\n",
       " 0.5⋅ⅈ       0\n",
       "     0  -0.5⋅ⅈ"
      ]
     },
     "execution_count": 94,
     "metadata": {},
     "output_type": "execute_result"
    }
   ],
   "source": [
    "J_ϕ_left = J_component_left(M,ϕ)"
   ]
  },
  {
   "cell_type": "markdown",
   "metadata": {},
   "source": [
    "Lo anterior se puede hacer de forma manual como sigue \n",
    "\n",
    "$A=g^{-1}\\frac{\\partial g}{\\partial \\theta}$ donde $\\frac{\\partial g}{\\partial \\theta}=T_0 g$"
   ]
  },
  {
   "cell_type": "markdown",
   "metadata": {},
   "source": [
    "$B=g^{-1}\\frac{\\partial g}{\\partial t}$ donde $\\frac{\\partial g}{\\partial t}=K(\\theta)A(t)T_1K(\\phi)$ entonces\n",
    "\n",
    "$B=(K(\\theta)A(t)K(\\phi))^{-1}K(\\theta)A(t)T_1K(\\phi)=K^{-1}(\\phi)T_1K(\\phi)$"
   ]
  },
  {
   "cell_type": "markdown",
   "metadata": {},
   "source": [
    "$C=g^{-1}\\frac{\\partial g}{\\partial \\phi}$ donde $\\frac{\\partial g}{\\partial \\phi}=gT_0$"
   ]
  },
  {
   "cell_type": "markdown",
   "metadata": {},
   "source": [
    "### $\\frac{\\partial g}{\\partial q_k} g^{-1}$"
   ]
  },
  {
   "cell_type": "code",
   "execution_count": 72,
   "metadata": {},
   "outputs": [
    {
     "data": {
      "text/plain": [
       "J_component_right (generic function with 1 method)"
      ]
     },
     "execution_count": 72,
     "metadata": {},
     "output_type": "execute_result"
    }
   ],
   "source": [
    "# Calculo de las matrices $\\frac{\\partial g}{\\partial q_k} g^{-1} $ \n",
    "function J_component_right(M,k)\n",
    "    M_inverse = simplify.(M^(-1))\n",
    "    derivative = simplify.(diff.(M,k))\n",
    "    return simplify.(derivative*M_inverse)\n",
    "end"
   ]
  },
  {
   "cell_type": "code",
   "execution_count": 95,
   "metadata": {},
   "outputs": [
    {
     "data": {
      "text/latex": [
       "$\\left[\\begin{smallmatrix}0.5 i & 0\\\\0 & - 0.5 i\\end{smallmatrix}\\right]$"
      ],
      "text/plain": [
       "2×2 Matrix{Sym{PyCall.PyObject}}:\n",
       " 0.5⋅ⅈ       0\n",
       "     0  -0.5⋅ⅈ"
      ]
     },
     "execution_count": 95,
     "metadata": {},
     "output_type": "execute_result"
    }
   ],
   "source": [
    "J_θ_right = J_component_right(M,θ)"
   ]
  },
  {
   "cell_type": "code",
   "execution_count": 96,
   "metadata": {},
   "outputs": [
    {
     "data": {
      "text/latex": [
       "$\\left[\\begin{smallmatrix}0 & 0.5 e^{1.0 i θ}\\\\0.5 e^{- 1.0 i θ} & 0\\end{smallmatrix}\\right]$"
      ],
      "text/plain": [
       "2×2 Matrix{Sym{PyCall.PyObject}}:\n",
       "                 0  0.5*exp(1.0*I*θ)\n",
       " 0.5*exp(-1.0*I*θ)                 0"
      ]
     },
     "execution_count": 96,
     "metadata": {},
     "output_type": "execute_result"
    }
   ],
   "source": [
    "J_t_right = J_component_right(M,t)"
   ]
  },
  {
   "cell_type": "code",
   "execution_count": 97,
   "metadata": {},
   "outputs": [
    {
     "data": {
      "text/latex": [
       "$\\left[\\begin{smallmatrix}0.5 i \\cosh{\\left(1.0 t \\right)} & - 0.5 i e^{1.0 i θ} \\sinh{\\left(1.0 t \\right)}\\\\0.5 i e^{- 1.0 i θ} \\sinh{\\left(1.0 t \\right)} & - 0.5 i \\cosh{\\left(1.0 t \\right)}\\end{smallmatrix}\\right]$"
      ],
      "text/plain": [
       "2×2 Matrix{Sym{PyCall.PyObject}}:\n",
       "               0.5⋅ⅈ⋅cosh(1.0⋅t)  -0.5*I*exp(1.0*I*θ)*sinh(1.0*t)\n",
       " 0.5*I*exp(-1.0*I*θ)*sinh(1.0*t)               -0.5⋅ⅈ⋅cosh(1.0⋅t)"
      ]
     },
     "execution_count": 97,
     "metadata": {},
     "output_type": "execute_result"
    }
   ],
   "source": [
    "J_ϕ_right = J_component_right(M,ϕ)"
   ]
  },
  {
   "cell_type": "markdown",
   "metadata": {},
   "source": [
    "### Definir el producto interno como $(A,B) = 2 \\; Tr(A^{\\dagger} B)$"
   ]
  },
  {
   "cell_type": "code",
   "execution_count": 99,
   "metadata": {},
   "outputs": [
    {
     "data": {
      "text/plain": [
       "inner_product (generic function with 1 method)"
      ]
     },
     "execution_count": 99,
     "metadata": {},
     "output_type": "execute_result"
    }
   ],
   "source": [
    "using LinearAlgebra\n",
    "#Definir producto interno\n",
    "function inner_product(a,b)\n",
    "    return 2*tr(a'*b)\n",
    "end"
   ]
  },
  {
   "cell_type": "markdown",
   "metadata": {},
   "source": [
    "### Definir la matriz jacobiana como $(J_l)_{jk}=(J_j, ig^{-1}\\frac{\\partial g}{\\partial q_k})$"
   ]
  },
  {
   "cell_type": "code",
   "execution_count": 51,
   "metadata": {},
   "outputs": [
    {
     "data": {
      "text/plain": [
       "jacobian (generic function with 1 method)"
      ]
     },
     "execution_count": 51,
     "metadata": {},
     "output_type": "execute_result"
    }
   ],
   "source": [
    "basis = Dict(1 => J_0, 2 => J_1, 3 => J_2)\n",
    "\n",
    "#Definir matriz jacobiana\n",
    "function jacobian(n,derivatives)\n",
    "    J = zeros(Sym, n, n)\n",
    "    for i in 1:n\n",
    "        for j in 1:n\n",
    "            J[i,j] = inner_product(basis[i],im*derivatives[j])\n",
    "        end\n",
    "    end\n",
    "    return simplify.(J)\n",
    "end"
   ]
  },
  {
   "cell_type": "code",
   "execution_count": 76,
   "metadata": {},
   "outputs": [
    {
     "data": {
      "text/latex": [
       "$\\left[\\begin{smallmatrix}1.0 \\cosh{\\left(1.0 t \\right)} & 0 & 1.0\\\\- 1.0 \\cos{\\left(1.0 ϕ \\right)} \\sinh{\\left(1.0 t \\right)} & 1.0 \\sin{\\left(1.0 ϕ \\right)} & 0\\\\1.0 \\sin{\\left(1.0 ϕ \\right)} \\sinh{\\left(1.0 t \\right)} & 1.0 \\cos{\\left(1.0 ϕ \\right)} & 0\\end{smallmatrix}\\right]$"
      ],
      "text/plain": [
       "3×3 Matrix{Sym{PyCall.PyObject}}:\n",
       "             1.0⋅cosh(1.0⋅t)               0  1.00000000000000\n",
       " -1.0⋅cos(1.0⋅ϕ)⋅sinh(1.0⋅t)  1.0⋅sin(1.0⋅ϕ)                 0\n",
       "  1.0⋅sin(1.0⋅ϕ)⋅sinh(1.0⋅t)  1.0⋅cos(1.0⋅ϕ)                 0"
      ]
     },
     "execution_count": 76,
     "metadata": {},
     "output_type": "execute_result"
    }
   ],
   "source": [
    "derivatives_left = Dict(1 => J_θ_left, 2 => J_t_left, 3 => J_ϕ_left)\n",
    "Jacobian_left = jacobian(3,derivatives_left)"
   ]
  },
  {
   "cell_type": "markdown",
   "metadata": {},
   "source": [
    "### Definir la matriz jacobiana como $(J_r)_{jk}=(J_j, i\\frac{\\partial g}{\\partial q_k}g^{-1})$"
   ]
  },
  {
   "cell_type": "code",
   "execution_count": 78,
   "metadata": {},
   "outputs": [
    {
     "data": {
      "text/latex": [
       "$\\left[\\begin{smallmatrix}1.0 & 0 & 1.0 \\cosh{\\left(1.0 t \\right)}\\\\0 & - 1.0 \\sin{\\left(1.0 θ \\right)} & 1.0 \\cos{\\left(1.0 θ \\right)} \\sinh{\\left(1.0 t \\right)}\\\\0 & 1.0 \\cos{\\left(1.0 θ \\right)} & 1.0 \\sin{\\left(1.0 θ \\right)} \\sinh{\\left(1.0 t \\right)}\\end{smallmatrix}\\right]$"
      ],
      "text/plain": [
       "3×3 Matrix{Sym{PyCall.PyObject}}:\n",
       " 1.00000000000000                0             1.0⋅cosh(1.0⋅t)\n",
       "                0  -1.0⋅sin(1.0⋅θ)  1.0⋅cos(1.0⋅θ)⋅sinh(1.0⋅t)\n",
       "                0   1.0⋅cos(1.0⋅θ)  1.0⋅sin(1.0⋅θ)⋅sinh(1.0⋅t)"
      ]
     },
     "execution_count": 78,
     "metadata": {},
     "output_type": "execute_result"
    }
   ],
   "source": [
    "derivatives_right = Dict(1 => J_θ_right, 2 => J_t_right, 3 => J_ϕ_right)\n",
    "Jacobian_right = jacobian(3,derivatives_right)"
   ]
  },
  {
   "cell_type": "markdown",
   "metadata": {},
   "source": [
    "### Determinnante de la matriz jacobiana "
   ]
  },
  {
   "cell_type": "code",
   "execution_count": 79,
   "metadata": {},
   "outputs": [
    {
     "data": {
      "text/latex": [
       "$- 1.0 \\sinh{\\left(1.0 t \\right)}$"
      ],
      "text/plain": [
       "-1.0⋅sinh(1.0⋅t)"
      ]
     },
     "execution_count": 79,
     "metadata": {},
     "output_type": "execute_result"
    }
   ],
   "source": [
    "d_left = simplify(det(Jacobian_left))"
   ]
  },
  {
   "cell_type": "code",
   "execution_count": 80,
   "metadata": {},
   "outputs": [
    {
     "data": {
      "text/latex": [
       "$- 1.0 \\sinh{\\left(1.0 t \\right)}$"
      ],
      "text/plain": [
       "-1.0⋅sinh(1.0⋅t)"
      ]
     },
     "execution_count": 80,
     "metadata": {},
     "output_type": "execute_result"
    }
   ],
   "source": [
    "d_right = simplify(det(Jacobian_right))"
   ]
  },
  {
   "cell_type": "markdown",
   "metadata": {},
   "source": [
    "## Realización"
   ]
  },
  {
   "cell_type": "code",
   "execution_count": 56,
   "metadata": {},
   "outputs": [
    {
     "data": {
      "text/plain": [
       "(∂/∂θ, ∂/∂t, ∂/∂ϕ)"
      ]
     },
     "execution_count": 56,
     "metadata": {},
     "output_type": "execute_result"
    }
   ],
   "source": [
    "d_dθ, d_dt, d_dϕ = symbols(\"∂/∂θ ∂/∂t ∂/∂ϕ\")"
   ]
  },
  {
   "cell_type": "code",
   "execution_count": 57,
   "metadata": {},
   "outputs": [
    {
     "data": {
      "text/latex": [
       "$\\left[\\begin{smallmatrix}∂/∂θ\\\\∂/∂t\\\\∂/∂ϕ\\end{smallmatrix}\\right]$"
      ],
      "text/plain": [
       "3-element Vector{Sym{PyCall.PyObject}}:\n",
       " ∂/∂θ\n",
       " ∂/∂t\n",
       " ∂/∂ϕ"
      ]
     },
     "execution_count": 57,
     "metadata": {},
     "output_type": "execute_result"
    }
   ],
   "source": [
    "nabla = [d_dθ, d_dt, d_dϕ]"
   ]
  },
  {
   "cell_type": "code",
   "execution_count": 81,
   "metadata": {},
   "outputs": [
    {
     "data": {
      "text/latex": [
       "$\\left[\\begin{smallmatrix}0 & - \\frac{1.0 \\cos{\\left(1.0 ϕ \\right)}}{\\sinh{\\left(1.0 t \\right)}} & \\frac{1.0 \\sin{\\left(1.0 ϕ \\right)}}{\\sinh{\\left(1.0 t \\right)}}\\\\0 & 1.0 \\sin{\\left(1.0 ϕ \\right)} & 1.0 \\cos{\\left(1.0 ϕ \\right)}\\\\1 & \\frac{1.0 \\cos{\\left(1.0 ϕ \\right)}}{\\tanh{\\left(1.0 t \\right)}} & - \\frac{1.0 \\sin{\\left(1.0 ϕ \\right)}}{\\tanh{\\left(1.0 t \\right)}}\\end{smallmatrix}\\right]$"
      ],
      "text/plain": [
       "3×3 Matrix{Sym{PyCall.PyObject}}:\n",
       " 0  -1.0*cos(1.0*ϕ)/sinh(1.0*t)   1.0*sin(1.0*ϕ)/sinh(1.0*t)\n",
       " 0               1.0⋅sin(1.0⋅ϕ)               1.0⋅cos(1.0⋅ϕ)\n",
       " 1   1.0*cos(1.0*ϕ)/tanh(1.0*t)  -1.0*sin(1.0*ϕ)/tanh(1.0*t)"
      ]
     },
     "execution_count": 81,
     "metadata": {},
     "output_type": "execute_result"
    }
   ],
   "source": [
    "J_inverse_left=simplify.(Jacobian_left^(-1))"
   ]
  },
  {
   "cell_type": "code",
   "execution_count": 82,
   "metadata": {},
   "outputs": [
    {
     "data": {
      "text/latex": [
       "$\\left[\\begin{smallmatrix}1 & - \\frac{1.0 \\cos{\\left(1.0 θ \\right)}}{\\tanh{\\left(1.0 t \\right)}} & - \\frac{1.0 \\sin{\\left(1.0 θ \\right)}}{\\tanh{\\left(1.0 t \\right)}}\\\\0 & - 1.0 \\sin{\\left(1.0 θ \\right)} & 1.0 \\cos{\\left(1.0 θ \\right)}\\\\0 & \\frac{1.0 \\cos{\\left(1.0 θ \\right)}}{\\sinh{\\left(1.0 t \\right)}} & \\frac{1.0 \\sin{\\left(1.0 θ \\right)}}{\\sinh{\\left(1.0 t \\right)}}\\end{smallmatrix}\\right]$"
      ],
      "text/plain": [
       "3×3 Matrix{Sym{PyCall.PyObject}}:\n",
       " 1  -1.0*cos(1.0*θ)/tanh(1.0*t)  -1.0*sin(1.0*θ)/tanh(1.0*t)\n",
       " 0              -1.0⋅sin(1.0⋅θ)               1.0⋅cos(1.0⋅θ)\n",
       " 0   1.0*cos(1.0*θ)/sinh(1.0*t)   1.0*sin(1.0*θ)/sinh(1.0*t)"
      ]
     },
     "execution_count": 82,
     "metadata": {},
     "output_type": "execute_result"
    }
   ],
   "source": [
    "J_inverse_right=simplify.(Jacobian_right^(-1))"
   ]
  },
  {
   "cell_type": "code",
   "execution_count": 83,
   "metadata": {},
   "outputs": [
    {
     "data": {
      "text/latex": [
       "$\\left[\\begin{smallmatrix}0 & 0 & 1\\\\- \\frac{1.0 \\cos{\\left(1.0 ϕ \\right)}}{\\sinh{\\left(1.0 t \\right)}} & 1.0 \\sin{\\left(1.0 ϕ \\right)} & \\frac{1.0 \\cos{\\left(1.0 ϕ \\right)}}{\\tanh{\\left(1.0 t \\right)}}\\\\\\frac{1.0 \\sin{\\left(1.0 ϕ \\right)}}{\\sinh{\\left(1.0 t \\right)}} & 1.0 \\cos{\\left(1.0 ϕ \\right)} & - \\frac{1.0 \\sin{\\left(1.0 ϕ \\right)}}{\\tanh{\\left(1.0 t \\right)}}\\end{smallmatrix}\\right]$"
      ],
      "text/plain": [
       "3×3 Matrix{Sym{PyCall.PyObject}}:\n",
       "                           0               0                            1\n",
       " -1.0*cos(1.0*ϕ)/sinh(1.0*t)  1.0⋅sin(1.0⋅ϕ)   1.0*cos(1.0*ϕ)/tanh(1.0*t)\n",
       "  1.0*sin(1.0*ϕ)/sinh(1.0*t)  1.0⋅cos(1.0⋅ϕ)  -1.0*sin(1.0*ϕ)/tanh(1.0*t)"
      ]
     },
     "execution_count": 83,
     "metadata": {},
     "output_type": "execute_result"
    }
   ],
   "source": [
    "J_left_inverse_traspose=simplify.(transpose(Jacobian_left^(-1)))"
   ]
  },
  {
   "cell_type": "code",
   "execution_count": 84,
   "metadata": {},
   "outputs": [
    {
     "data": {
      "text/latex": [
       "$\\left[\\begin{smallmatrix}1 & 0 & 0\\\\- \\frac{1.0 \\cos{\\left(1.0 θ \\right)}}{\\tanh{\\left(1.0 t \\right)}} & - 1.0 \\sin{\\left(1.0 θ \\right)} & \\frac{1.0 \\cos{\\left(1.0 θ \\right)}}{\\sinh{\\left(1.0 t \\right)}}\\\\- \\frac{1.0 \\sin{\\left(1.0 θ \\right)}}{\\tanh{\\left(1.0 t \\right)}} & 1.0 \\cos{\\left(1.0 θ \\right)} & \\frac{1.0 \\sin{\\left(1.0 θ \\right)}}{\\sinh{\\left(1.0 t \\right)}}\\end{smallmatrix}\\right]$"
      ],
      "text/plain": [
       "3×3 Matrix{Sym{PyCall.PyObject}}:\n",
       "                           1                0                           0\n",
       " -1.0*cos(1.0*θ)/tanh(1.0*t)  -1.0⋅sin(1.0⋅θ)  1.0*cos(1.0*θ)/sinh(1.0*t)\n",
       " -1.0*sin(1.0*θ)/tanh(1.0*t)   1.0⋅cos(1.0⋅θ)  1.0*sin(1.0*θ)/sinh(1.0*t)"
      ]
     },
     "execution_count": 84,
     "metadata": {},
     "output_type": "execute_result"
    }
   ],
   "source": [
    "J_right_inverse_traspose=simplify.(transpose(Jacobian_right^(-1)))"
   ]
  },
  {
   "cell_type": "code",
   "execution_count": 85,
   "metadata": {},
   "outputs": [
    {
     "data": {
      "text/latex": [
       "$\\left[\\begin{smallmatrix}i ∂/∂ϕ\\\\1.0 i ∂/∂t \\sin{\\left(1.0 ϕ \\right)} - \\frac{1.0 i ∂/∂θ \\cos{\\left(1.0 ϕ \\right)}}{\\sinh{\\left(1.0 t \\right)}} + \\frac{1.0 i ∂/∂ϕ \\cos{\\left(1.0 ϕ \\right)}}{\\tanh{\\left(1.0 t \\right)}}\\\\1.0 i ∂/∂t \\cos{\\left(1.0 ϕ \\right)} + \\frac{1.0 i ∂/∂θ \\sin{\\left(1.0 ϕ \\right)}}{\\sinh{\\left(1.0 t \\right)}} - \\frac{1.0 i ∂/∂ϕ \\sin{\\left(1.0 ϕ \\right)}}{\\tanh{\\left(1.0 t \\right)}}\\end{smallmatrix}\\right]$"
      ],
      "text/plain": [
       "3-element Vector{Sym{PyCall.PyObject}}:\n",
       "                                                                                        ⅈ⋅∂/∂ϕ\n",
       " 1.0*I*∂/∂t*sin(1.0*ϕ) - 1.0*I*∂/∂θ*cos(1.0*ϕ)/sinh(1.0*t) + 1.0*I*∂/∂ϕ*cos(1.0*ϕ)/tanh(1.0*t)\n",
       " 1.0*I*∂/∂t*cos(1.0*ϕ) + 1.0*I*∂/∂θ*sin(1.0*ϕ)/sinh(1.0*t) - 1.0*I*∂/∂ϕ*sin(1.0*ϕ)/tanh(1.0*t)"
      ]
     },
     "execution_count": 85,
     "metadata": {},
     "output_type": "execute_result"
    }
   ],
   "source": [
    "left_representation =im*J_left_inverse_traspose*nabla"
   ]
  },
  {
   "cell_type": "code",
   "execution_count": 86,
   "metadata": {},
   "outputs": [
    {
     "data": {
      "text/latex": [
       "$\\left[\\begin{smallmatrix}- i ∂/∂θ\\\\1.0 i ∂/∂t \\sin{\\left(1.0 θ \\right)} + \\frac{1.0 i ∂/∂θ \\cos{\\left(1.0 θ \\right)}}{\\tanh{\\left(1.0 t \\right)}} - \\frac{1.0 i ∂/∂ϕ \\cos{\\left(1.0 θ \\right)}}{\\sinh{\\left(1.0 t \\right)}}\\\\- 1.0 i ∂/∂t \\cos{\\left(1.0 θ \\right)} + \\frac{1.0 i ∂/∂θ \\sin{\\left(1.0 θ \\right)}}{\\tanh{\\left(1.0 t \\right)}} - \\frac{1.0 i ∂/∂ϕ \\sin{\\left(1.0 θ \\right)}}{\\sinh{\\left(1.0 t \\right)}}\\end{smallmatrix}\\right]$"
      ],
      "text/plain": [
       "3-element Vector{Sym{PyCall.PyObject}}:\n",
       "                                                                                        -ⅈ⋅∂/∂θ\n",
       "  1.0*I*∂/∂t*sin(1.0*θ) + 1.0*I*∂/∂θ*cos(1.0*θ)/tanh(1.0*t) - 1.0*I*∂/∂ϕ*cos(1.0*θ)/sinh(1.0*t)\n",
       " -1.0*I*∂/∂t*cos(1.0*θ) + 1.0*I*∂/∂θ*sin(1.0*θ)/tanh(1.0*t) - 1.0*I*∂/∂ϕ*sin(1.0*θ)/sinh(1.0*t)"
      ]
     },
     "execution_count": 86,
     "metadata": {},
     "output_type": "execute_result"
    }
   ],
   "source": [
    "right_representation =-im*J_right_inverse_traspose*nabla"
   ]
  },
  {
   "cell_type": "code",
   "execution_count": 64,
   "metadata": {},
   "outputs": [
    {
     "data": {
      "text/latex": [
       "$1.0 i ∂/∂t \\cos{\\left(1.0 ϕ \\right)} + \\frac{1.0 i ∂/∂θ \\sin{\\left(1.0 ϕ \\right)}}{\\sinh{\\left(1.0 t \\right)}} - \\frac{1.0 i ∂/∂ϕ \\sin{\\left(1.0 ϕ \\right)}}{\\tanh{\\left(1.0 t \\right)}}$"
      ],
      "text/plain": [
       "                        1.0⋅ⅈ⋅∂/∂θ⋅sin(1.0⋅ϕ)   1.0⋅ⅈ⋅∂/∂ϕ⋅sin(1.0⋅ϕ)\n",
       "1.0⋅ⅈ⋅∂/∂t⋅cos(1.0⋅ϕ) + ───────────────────── - ─────────────────────\n",
       "                             sinh(1.0⋅t)             tanh(1.0⋅t)     "
      ]
     },
     "execution_count": 64,
     "metadata": {},
     "output_type": "execute_result"
    }
   ],
   "source": [
    "pi_J_1 = left_representation[2]"
   ]
  },
  {
   "cell_type": "code",
   "execution_count": 65,
   "metadata": {},
   "outputs": [
    {
     "data": {
      "text/latex": [
       "$- 1.0 i ∂/∂t \\sin{\\left(1.0 ϕ \\right)} + \\frac{1.0 i ∂/∂θ \\cos{\\left(1.0 ϕ \\right)}}{\\sinh{\\left(1.0 t \\right)}} - \\frac{1.0 i ∂/∂ϕ \\cos{\\left(1.0 ϕ \\right)}}{\\tanh{\\left(1.0 t \\right)}}$"
      ],
      "text/plain": [
       "                         1.0⋅ⅈ⋅∂/∂θ⋅cos(1.0⋅ϕ)   1.0⋅ⅈ⋅∂/∂ϕ⋅cos(1.0⋅ϕ)\n",
       "-1.0⋅ⅈ⋅∂/∂t⋅sin(1.0⋅ϕ) + ───────────────────── - ─────────────────────\n",
       "                              sinh(1.0⋅t)             tanh(1.0⋅t)     "
      ]
     },
     "execution_count": 65,
     "metadata": {},
     "output_type": "execute_result"
    }
   ],
   "source": [
    "pi_J_2 = left_representation[3]"
   ]
  }
 ],
 "metadata": {
  "kernelspec": {
   "display_name": "Julia 1.11.3",
   "language": "julia",
   "name": "julia-1.11"
  },
  "language_info": {
   "file_extension": ".jl",
   "mimetype": "application/julia",
   "name": "julia",
   "version": "1.11.3"
  }
 },
 "nbformat": 4,
 "nbformat_minor": 2
}
