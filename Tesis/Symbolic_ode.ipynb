{
 "cells": [
  {
   "cell_type": "code",
   "execution_count": 20,
   "metadata": {},
   "outputs": [
    {
     "data": {
      "text/latex": [
       "$ω$"
      ],
      "text/plain": [
       "ω"
      ]
     },
     "metadata": {},
     "output_type": "display_data"
    }
   ],
   "source": [
    "using SymPy\n",
    "\n",
    "x,z,α,β,γ,j = symbols(\"x,z,α,β,γ,j\")\n",
    "m,n = symbols(\"m,n\")\n",
    "# Define abstract functions\n",
    "y = SymFunction(\"y\")\n",
    "ω = SymFunction(\"ω\")  "
   ]
  },
  {
   "cell_type": "code",
   "execution_count": 31,
   "metadata": {},
   "outputs": [
    {
     "data": {
      "text/latex": [
       "$j \\left(j + 1\\right) ω{\\left(z \\right)} - 2 z \\frac{d}{d z} ω{\\left(z \\right)} + \\left(1 - z^{2}\\right) \\frac{d^{2}}{d z^{2}} ω{\\left(z \\right)} + \\frac{\\left(m^{2} - 2 m n z + n^{2}\\right) ω{\\left(z \\right)}}{z^{2} - 1}$"
      ],
      "text/plain": [
       "                                          2          / 2              2\\     \n",
       "                     d          /     2\\ d           \\m  - 2*m*n*z + n /*ω(z)\n",
       "j*(j + 1)*ω(z) - 2*z*--(ω(z)) + \\1 - z /*---(ω(z)) + ------------------------\n",
       "                     dz                    2                   2             \n",
       "                                         dz                   z  - 1         "
      ]
     },
     "metadata": {},
     "output_type": "display_data"
    }
   ],
   "source": [
    "#definimos la ecuación difererencial \n",
    "diferential_operator = -(z^2 - 1) * diff(ω(z), z, z) - 2 * z * diff(ω(z), z) + ((m^2 + n^2 - 2*m*n*z) / (z^2 - 1)) * ω(z) + j * (j + 1) * ω(z)"
   ]
  },
  {
   "cell_type": "code",
   "execution_count": 3,
   "metadata": {},
   "outputs": [
    {
     "data": {
      "text/latex": [
       "$2 x + 1$"
      ],
      "text/plain": [
       "2*x + 1"
      ]
     },
     "metadata": {},
     "output_type": "display_data"
    }
   ],
   "source": [
    "z_new = 2*x+1"
   ]
  },
  {
   "cell_type": "code",
   "execution_count": 21,
   "metadata": {},
   "outputs": [
    {
     "data": {
      "text/latex": [
       "$x^{\\frac{m}{2} - \\frac{n}{2}} \\left(x + 1\\right)^{- \\frac{m}{2} - \\frac{n}{2}} y{\\left(x \\right)}$"
      ],
      "text/plain": [
       " m   n          m   n     \n",
       " - - -        - - - -     \n",
       " 2   2          2   2     \n",
       "x     *(x + 1)       *y(x)"
      ]
     },
     "metadata": {},
     "output_type": "display_data"
    }
   ],
   "source": [
    "f = x^((m-n)/2)*(1+x)^(-(m+n)/2)*y(x)"
   ]
  },
  {
   "cell_type": "code",
   "execution_count": 29,
   "metadata": {},
   "outputs": [
    {
     "data": {
      "text/latex": [
       "$x^{\\frac{m}{2} - \\frac{n}{2}} \\left(x + 1\\right)^{- \\frac{m}{2} - \\frac{n}{2}} \\left(\\frac{\\left(- \\frac{m}{2} - \\frac{n}{2}\\right) y{\\left(x \\right)}}{x + 1} + \\frac{d}{d x} y{\\left(x \\right)} + \\frac{\\left(\\frac{m}{2} - \\frac{n}{2}\\right) y{\\left(x \\right)}}{x}\\right)$"
      ],
      "text/plain": [
       " m   n          m   n //  m   n\\                   /m   n\\     \\\n",
       " - - -        - - - - ||- - - -|*y(x)              |- - -|*y(x)|\n",
       " 2   2          2   2 |\\  2   2/        d          \\2   2/     |\n",
       "x     *(x + 1)       *|-------------- + --(y(x)) + ------------|\n",
       "                      \\    x + 1        dx              x      /"
      ]
     },
     "metadata": {},
     "output_type": "display_data"
    }
   ],
   "source": [
    "dωdx = diff(f,x)\n",
    "dωdx_factored = collect(dfdx, x^((m-n)/2)*(1+x)^(-(m+n)/2))"
   ]
  },
  {
   "cell_type": "code",
   "execution_count": 30,
   "metadata": {},
   "outputs": [
    {
     "data": {
      "text/latex": [
       "$x^{\\frac{m}{2} - \\frac{n}{2}} \\left(x + 1\\right)^{- \\frac{m}{2} - \\frac{n}{2}} \\left(\\frac{\\left(- \\frac{m}{2} - \\frac{n}{2}\\right)^{2} y{\\left(x \\right)}}{\\left(x + 1\\right)^{2}} + \\frac{2 \\left(- \\frac{m}{2} - \\frac{n}{2}\\right) \\frac{d}{d x} y{\\left(x \\right)}}{x + 1} - \\frac{\\left(- \\frac{m}{2} - \\frac{n}{2}\\right) y{\\left(x \\right)}}{\\left(x + 1\\right)^{2}} + \\frac{d^{2}}{d x^{2}} y{\\left(x \\right)} + \\frac{2 \\left(- \\frac{m}{2} - \\frac{n}{2}\\right) \\left(\\frac{m}{2} - \\frac{n}{2}\\right) y{\\left(x \\right)}}{x \\left(x + 1\\right)} + \\frac{2 \\left(\\frac{m}{2} - \\frac{n}{2}\\right) \\frac{d}{d x} y{\\left(x \\right)}}{x} + \\frac{\\left(\\frac{m}{2} - \\frac{n}{2}\\right)^{2} y{\\left(x \\right)}}{x^{2}} - \\frac{\\left(\\frac{m}{2} - \\frac{n}{2}\\right) y{\\left(x \\right)}}{x^{2}}\\right)$"
      ],
      "text/plain": [
       "                      /         2                                              >\n",
       " m   n          m   n |/  m   n\\           /  m   n\\ d          /  m   n\\      >\n",
       " - - -        - - - - ||- - - -| *y(x)   2*|- - - -|*--(y(x))   |- - - -|*y(x) >\n",
       " 2   2          2   2 |\\  2   2/           \\  2   2/ dx         \\  2   2/      >\n",
       "x     *(x + 1)       *|--------------- + -------------------- - -------------- >\n",
       "                      |          2              x + 1                     2    >\n",
       "                      \\   (x + 1)                                  (x + 1)     >\n",
       "\n",
       ">                                                                       2      >\n",
       ">                  /  m   n\\ /m   n\\          /m   n\\ d          /m   n\\       >\n",
       ">     2          2*|- - - -|*|- - -|*y(x)   2*|- - -|*--(y(x))   |- - -| *y(x) >\n",
       ">    d             \\  2   2/ \\2   2/          \\2   2/ dx         \\2   2/       >\n",
       ">  + ---(y(x)) + ------------------------ + ------------------ + ------------- >\n",
       ">      2                x*(x + 1)                   x                  2       >\n",
       ">    dx                                                               x        >\n",
       "\n",
       ">                \\\n",
       ">    /m   n\\     |\n",
       ">    |- - -|*y(x)|\n",
       ">    \\2   2/     |\n",
       ">  - ------------|\n",
       ">          2     |\n",
       ">         x      /"
      ]
     },
     "metadata": {},
     "output_type": "display_data"
    }
   ],
   "source": [
    "ddωddx = diff(dωdx,x)\n",
    "ddωddx_factored = collect(ddωddx, x^((m-n)/2)*(1+x)^(-(m+n)/2))"
   ]
  },
  {
   "cell_type": "code",
   "execution_count": 45,
   "metadata": {},
   "outputs": [
    {
     "data": {
      "text/latex": [
       "$j^{2} y{\\left(x \\right)} + j y{\\left(x \\right)} - m \\frac{d}{d x} y{\\left(x \\right)} - n^{2} y{\\left(x \\right)} + 2 n x \\frac{d}{d x} y{\\left(x \\right)} + n y{\\left(x \\right)} + n \\frac{d}{d x} y{\\left(x \\right)} - x^{2} \\frac{d^{2}}{d x^{2}} y{\\left(x \\right)} - 2 x \\frac{d}{d x} y{\\left(x \\right)} - x \\frac{d^{2}}{d x^{2}} y{\\left(x \\right)} - \\frac{d}{d x} y{\\left(x \\right)}$"
      ],
      "text/plain": [
       "                                                                               >\n",
       " 2                   d           2              d                     d        >\n",
       "j *y(x) + j*y(x) - m*--(y(x)) - n *y(x) + 2*n*x*--(y(x)) + n*y(x) + n*--(y(x)) >\n",
       "                     dx                         dx                    dx       >\n",
       "                                                                               >\n",
       "\n",
       ">        2                            2                  \n",
       ">     2 d               d            d           d       \n",
       ">  - x *---(y(x)) - 2*x*--(y(x)) - x*---(y(x)) - --(y(x))\n",
       ">         2             dx             2         dx      \n",
       ">       dx                           dx                  "
      ]
     },
     "metadata": {},
     "output_type": "display_data"
    }
   ],
   "source": [
    "dif_op = -x*(x+1)*ddωddx-(2*x+1)*dωdx + ((((m-n)/2)^2 - m*n*x) / ((x*(x+1)))) * f + j * (j + 1) * f\n",
    "g=collect(dif_op, x^((m-n)/2)*(1+x)^(-(m+n)/2))\n",
    "#se asume que x es distinto de 0 y -1\n",
    "expr=simplify(g / (x^((m-n)/2)*(1+x)^(-(m+n)/2)))"
   ]
  },
  {
   "cell_type": "code",
   "execution_count": 47,
   "metadata": {},
   "outputs": [
    {
     "data": {
      "text/latex": [
       "$- j^{2} - j + n^{2} - n$"
      ],
      "text/plain": [
       "   2        2    \n",
       "- j  - j + n  - n"
      ]
     },
     "metadata": {},
     "output_type": "display_data"
    }
   ],
   "source": [
    "expand((-j-n)*(j-n+1))"
   ]
  }
 ],
 "metadata": {
  "kernelspec": {
   "display_name": "Julia 1.11.3",
   "language": "julia",
   "name": "julia-1.11"
  },
  "language_info": {
   "file_extension": ".jl",
   "mimetype": "application/julia",
   "name": "julia",
   "version": "1.11.3"
  }
 },
 "nbformat": 4,
 "nbformat_minor": 2
}
