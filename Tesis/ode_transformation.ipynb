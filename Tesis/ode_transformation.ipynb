{
 "cells": [
  {
   "cell_type": "markdown",
   "metadata": {},
   "source": [
    "Transformación de ecuaciónes diferenciales"
   ]
  },
  {
   "cell_type": "code",
   "execution_count": 1,
   "metadata": {},
   "outputs": [],
   "source": [
    "using SymPy"
   ]
  },
  {
   "cell_type": "code",
   "execution_count": 2,
   "metadata": {},
   "outputs": [
    {
     "data": {
      "text/latex": [
       "$x$"
      ],
      "text/plain": [
       "x"
      ]
     },
     "metadata": {},
     "output_type": "display_data"
    }
   ],
   "source": [
    "a,b,c = symbols(\"a b c\")\n",
    "x = symbols(\"x\")"
   ]
  },
  {
   "cell_type": "code",
   "execution_count": null,
   "metadata": {},
   "outputs": [
    {
     "data": {
      "text/latex": [
       "$2 a^{2} + 4 a b - 4 a c + 2 b^{2} - 4 b c + 4 c^{2} - 4 c + 2$"
      ],
      "text/plain": [
       "   2                      2              2          \n",
       "2*a  + 4*a*b - 4*a*c + 2*b  - 4*b*c + 4*c  - 4*c + 2"
      ]
     },
     "metadata": {},
     "output_type": "display_data"
    }
   ],
   "source": [
    "f = a+b-2c+1\n",
    "g = a+b-1\n",
    "expr = f^2+g^2\n",
    "expr = expand(expr)"
   ]
  },
  {
   "cell_type": "code",
   "execution_count": 13,
   "metadata": {},
   "outputs": [
    {
     "data": {
      "text/latex": [
       "$- 2 a^{2} - 4 a b + 4 a c - 2 b^{2} + 4 b c - 4 c + 2$"
      ],
      "text/plain": [
       "     2                      2                  \n",
       "- 2*a  - 4*a*b + 4*a*c - 2*b  + 4*b*c - 4*c + 2"
      ]
     },
     "metadata": {},
     "output_type": "display_data"
    }
   ],
   "source": [
    "expr2 = -2*f*g\n",
    "expr2 = expand(expr2)"
   ]
  },
  {
   "cell_type": "code",
   "execution_count": 14,
   "metadata": {},
   "outputs": [
    {
     "data": {
      "text/latex": [
       "$4 c^{2} - 8 c + 4$"
      ],
      "text/plain": [
       "   2          \n",
       "4*c  - 8*c + 4"
      ]
     },
     "metadata": {},
     "output_type": "display_data"
    }
   ],
   "source": [
    "expr3 = expr+expr2\n",
    "expr3 = expand(expr3)"
   ]
  },
  {
   "cell_type": "code",
   "execution_count": 27,
   "metadata": {},
   "outputs": [
    {
     "data": {
      "text/latex": [
       "$\\frac{a^{2}}{4} - \\frac{a b}{2} + \\frac{b^{2}}{4} - \\frac{1}{4}$"
      ],
      "text/plain": [
       " 2          2    \n",
       "a    a*b   b    1\n",
       "-- - --- + -- - -\n",
       "4     2    4    4"
      ]
     },
     "metadata": {},
     "output_type": "display_data"
    }
   ],
   "source": [
    "j=(b-a-1)/2\n",
    "expr4 = j*(j+1)\n",
    "expr4 = expand(expr4)"
   ]
  }
 ],
 "metadata": {
  "kernelspec": {
   "display_name": "Julia 1.11.3",
   "language": "julia",
   "name": "julia-1.11"
  },
  "language_info": {
   "file_extension": ".jl",
   "mimetype": "application/julia",
   "name": "julia",
   "version": "1.11.3"
  }
 },
 "nbformat": 4,
 "nbformat_minor": 2
}
